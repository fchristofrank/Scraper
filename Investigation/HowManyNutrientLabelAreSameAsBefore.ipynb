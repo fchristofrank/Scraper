{
 "cells": [
  {
   "cell_type": "code",
   "execution_count": 5,
   "metadata": {},
   "outputs": [],
   "source": [
    "import pymongo\n",
    "import json\n",
    "import requests\n",
    "import time"
   ]
  },
  {
   "cell_type": "code",
   "execution_count": 18,
   "metadata": {},
   "outputs": [],
   "source": [
    "# Global variable for the database\n",
    "db = None\n",
    "CONNECTION_STRING = \"mongodb://localhost:27017/\"\n",
    "COLLECTION_NAME = \"TestingData\"\n",
    "FIELD_NAME = \"ingredientList\"\n",
    "DATABASE_NAME = \"GroceryDB\"\n"
   ]
  },
  {
   "cell_type": "code",
   "execution_count": 20,
   "metadata": {},
   "outputs": [],
   "source": [
    "def init_db(connection_string, database_name):\n",
    "    \"\"\"Initialize the MongoDB connection and set the global db variable.\"\"\"\n",
    "    global db\n",
    "    try:\n",
    "        client = pymongo.MongoClient(connection_string)\n",
    "        db = client[database_name]\n",
    "    except Exception as e:\n",
    "        print(\"Error initializing database:\", e)\n",
    "        \n",
    "init_db(CONNECTION_STRING,DATABASE_NAME)\n"
   ]
  },
  {
   "cell_type": "code",
   "execution_count": 21,
   "metadata": {},
   "outputs": [],
   "source": [
    "def fetch_field_from_mongo(collection_name, field_name):\n",
    "    \"\"\"Fetch a specific field from a MongoDB collection and return as JSON.\"\"\"\n",
    "    global db\n",
    "    if db is None:\n",
    "        return json.dumps({\"error\": \"Database not initialized. Run init_db cell first.\"})\n",
    "\n",
    "    try:\n",
    "        collection = db[collection_name]\n",
    "        results = collection.find({}, {field_name: 1, \"_id\": 0})\n",
    "        data = [doc.get(field_name, \"Field not found\") for doc in results]\n",
    "        return data\n",
    "    except Exception as e:\n",
    "        print(\"The field fetch from DB failed!\")\n",
    "        return "
   ]
  },
  {
   "cell_type": "code",
   "execution_count": 25,
   "metadata": {},
   "outputs": [
    {
     "name": "stdout",
     "output_type": "stream",
     "text": [
      "https://www.target.com/p/sunwarrior-organic-plant-protein-powder-chocolate-13-22oz/-/A-81995864\n",
      "https://www.target.com/p/reese-hearts-of-palm-14-8oz/-/A-13022348\n",
      "https://www.target.com/p/teddy-grahams-honey-graham-snacks-variety-pack-12oz-12ct/-/A-12945568\n",
      "https://www.walmart.com/ip/396785612\n",
      "https://products.wholefoodsmarket.com/product/bear-mango-apple-sour-yoyos-5-count-638d97\n"
     ]
    },
    {
     "data": {
      "text/plain": [
       "{'200': 3,\n",
       " '4xx': 2,\n",
       " '5xx': 0,\n",
       " 'other': 0,\n",
       " 'not_available_products': ['https://www.target.com/p/reese-hearts-of-palm-14-8oz/-/A-13022348',\n",
       "  'https://www.target.com/p/teddy-grahams-honey-graham-snacks-variety-pack-12oz-12ct/-/A-12945568']}"
      ]
     },
     "execution_count": 25,
     "metadata": {},
     "output_type": "execute_result"
    }
   ],
   "source": [
    "def count_response_codes(urls):\n",
    "    \n",
    "    \"\"\"This function will give us the statistic on how many products are currently offered in the respective store.\"\"\"\n",
    "    \n",
    "    status_counts = {\"200\": 0, \"4xx\": 0, \"5xx\": 0, \"other\": 0, \"not_available_products\": [] }\n",
    "\n",
    "    for url in urls:\n",
    "        try:\n",
    "            print(url)\n",
    "            response = requests.get(url, timeout=5)  # Timeout to prevent long waits\n",
    "            status_code = response.status_code\n",
    "\n",
    "            if status_code == 200:\n",
    "                status_counts[\"200\"] += 1\n",
    "            elif 400 <= status_code < 500:\n",
    "                status_counts[\"4xx\"] += 1 \n",
    "                status_counts[\"not_available_products\"].append(url)\n",
    "            elif 500 <= status_code < 600:\n",
    "                status_counts[\"5xx\"] += 1 \n",
    "            else:\n",
    "                status_counts[\"other\"] += 1 \n",
    "\n",
    "        except requests.RequestException as e:\n",
    "            print(f\"Error fetching {url}: {e}\")\n",
    "            status_counts[\"other\"] += 1  # Count failed requests\n",
    "\n",
    "    return status_counts\n",
    "\n",
    "urls_in_db = fetch_field_from_mongo(COLLECTION_NAME,\"url\")\n",
    "count_response_codes(urls_in_db[:5])\n"
   ]
  },
  {
   "cell_type": "code",
   "execution_count": 37,
   "metadata": {},
   "outputs": [
    {
     "name": "stdout",
     "output_type": "stream",
     "text": [
      "Making request for URL: https://redsky.target.com/redsky_aggregations/v1/web/pdp_client_v1?key=9f36aeafbe60771e321a7cc95a78140772ab3e96&tcin=81995864&is_bot=false&pricing_store_id=3324&visitor_id=019347C3E9160201A06B297D0CC373F6\n",
      "[{'name': 'Total Fat', 'percentage': 3.0, 'quantity': 2.0, 'unit_of_measurement': 'grm'}, {'name': 'Saturated Fat', 'percentage': 0.0, 'quantity': 0.0, 'unit_of_measurement': 'grm'}, {'name': 'Trans Fat', 'percentage': 0.0, 'quantity': 0.0, 'unit_of_measurement': 'grm'}, {'name': 'Cholesterol', 'percentage': 0.0, 'quantity': 0.0, 'unit_of_measurement': 'mg'}, {'name': 'Sodium', 'percentage': 10.0, 'quantity': 220.0, 'unit_of_measurement': 'mg'}, {'name': 'Total Carbohydrate', 'percentage': 1.0, 'quantity': 2.0, 'unit_of_measurement': 'grm'}, {'name': 'Dietary Fiber', 'percentage': 7.0, 'quantity': 2.0, 'unit_of_measurement': 'grm'}, {'name': 'Total Sugars', 'percentage': 0.0, 'quantity': 1.0, 'unit_of_measurement': 'grm'}, {'name': 'Added Sugars', 'percentage': 0.0, 'quantity': 0.0, 'unit_of_measurement': 'grm'}, {'name': 'Protein', 'percentage': 24.0, 'quantity': 16.0, 'unit_of_measurement': 'grm'}, {'name': 'Vitamin D', 'percentage': 0.0, 'quantity': 0.0, 'unit_of_measurement': 'mcg'}, {'name': 'Calcium', 'percentage': 2.0, 'quantity': 30.0, 'unit_of_measurement': 'mg'}, {'name': 'Iron', 'percentage': 30.0, 'quantity': 5.6, 'unit_of_measurement': 'mg'}, {'name': 'Potassium', 'percentage': 2.0, 'quantity': 120.0, 'unit_of_measurement': 'mg'}, {'name': 'Calories', 'percentage': 0.0, 'quantity': 90.0, 'unit_of_measurement': 'kcal'}]\n",
      "{'Total Fat': {'quantity': 2.0, 'unit_of_measurement': 'grm'}, 'Saturated Fat': {'quantity': 0.0, 'unit_of_measurement': 'grm'}, 'Trans Fat': {'quantity': 0.0, 'unit_of_measurement': 'grm'}, 'Cholesterol': {'quantity': 0.0, 'unit_of_measurement': 'mg'}, 'Sodium': {'quantity': 220.0, 'unit_of_measurement': 'mg'}, 'Total Carbohydrate': {'quantity': 2.0, 'unit_of_measurement': 'grm'}, 'Dietary Fiber': {'quantity': 2.0, 'unit_of_measurement': 'grm'}, 'Total Sugars': {'quantity': 1.0, 'unit_of_measurement': 'grm'}, 'Added Sugars': {'quantity': 0.0, 'unit_of_measurement': 'grm'}, 'Protein': {'quantity': 16.0, 'unit_of_measurement': 'grm'}, 'Vitamin D': {'quantity': 0.0, 'unit_of_measurement': 'mcg'}, 'Calcium': {'quantity': 30.0, 'unit_of_measurement': 'mg'}, 'Iron': {'quantity': 5.6, 'unit_of_measurement': 'mg'}, 'Potassium': {'quantity': 120.0, 'unit_of_measurement': 'mg'}, 'Calories': {'quantity': 90.0, 'unit_of_measurement': 'kcal'}}\n",
      "Making request for URL: https://redsky.target.com/redsky_aggregations/v1/web/pdp_client_v1?key=9f36aeafbe60771e321a7cc95a78140772ab3e96&tcin=13022348&is_bot=false&pricing_store_id=3324&visitor_id=019347C3E9160201A06B297D0CC373F6\n",
      "Request failed for URL https://redsky.target.com/redsky_aggregations/v1/web/pdp_client_v1?key=9f36aeafbe60771e321a7cc95a78140772ab3e96&tcin=13022348&is_bot=false&pricing_store_id=3324&visitor_id=019347C3E9160201A06B297D0CC373F6 with status code: 404\n",
      "Making request for URL: https://redsky.target.com/redsky_aggregations/v1/web/pdp_client_v1?key=9f36aeafbe60771e321a7cc95a78140772ab3e96&tcin=12945568&is_bot=false&pricing_store_id=3324&visitor_id=019347C3E9160201A06B297D0CC373F6\n",
      "Request failed for URL https://redsky.target.com/redsky_aggregations/v1/web/pdp_client_v1?key=9f36aeafbe60771e321a7cc95a78140772ab3e96&tcin=12945568&is_bot=false&pricing_store_id=3324&visitor_id=019347C3E9160201A06B297D0CC373F6 with status code: 404\n",
      "wm_396785612\n",
      "wf_bear-mango-apple-sour-yoyos-5-count-638d97\n",
      "{'81995864': {'Total Fat': {'quantity': 2.0, 'unit_of_measurement': 'grm'}, 'Saturated Fat': {'quantity': 0.0, 'unit_of_measurement': 'grm'}, 'Trans Fat': {'quantity': 0.0, 'unit_of_measurement': 'grm'}, 'Cholesterol': {'quantity': 0.0, 'unit_of_measurement': 'mg'}, 'Sodium': {'quantity': 220.0, 'unit_of_measurement': 'mg'}, 'Total Carbohydrate': {'quantity': 2.0, 'unit_of_measurement': 'grm'}, 'Dietary Fiber': {'quantity': 2.0, 'unit_of_measurement': 'grm'}, 'Total Sugars': {'quantity': 1.0, 'unit_of_measurement': 'grm'}, 'Added Sugars': {'quantity': 0.0, 'unit_of_measurement': 'grm'}, 'Protein': {'quantity': 16.0, 'unit_of_measurement': 'grm'}, 'Vitamin D': {'quantity': 0.0, 'unit_of_measurement': 'mcg'}, 'Calcium': {'quantity': 30.0, 'unit_of_measurement': 'mg'}, 'Iron': {'quantity': 5.6, 'unit_of_measurement': 'mg'}, 'Potassium': {'quantity': 120.0, 'unit_of_measurement': 'mg'}, 'Calories': {'quantity': 90.0, 'unit_of_measurement': 'kcal'}}}\n"
     ]
    },
    {
     "data": {
      "text/plain": [
       "{'81995864': {'Total Fat': {'quantity': 2.0, 'unit_of_measurement': 'grm'},\n",
       "  'Saturated Fat': {'quantity': 0.0, 'unit_of_measurement': 'grm'},\n",
       "  'Trans Fat': {'quantity': 0.0, 'unit_of_measurement': 'grm'},\n",
       "  'Cholesterol': {'quantity': 0.0, 'unit_of_measurement': 'mg'},\n",
       "  'Sodium': {'quantity': 220.0, 'unit_of_measurement': 'mg'},\n",
       "  'Total Carbohydrate': {'quantity': 2.0, 'unit_of_measurement': 'grm'},\n",
       "  'Dietary Fiber': {'quantity': 2.0, 'unit_of_measurement': 'grm'},\n",
       "  'Total Sugars': {'quantity': 1.0, 'unit_of_measurement': 'grm'},\n",
       "  'Added Sugars': {'quantity': 0.0, 'unit_of_measurement': 'grm'},\n",
       "  'Protein': {'quantity': 16.0, 'unit_of_measurement': 'grm'},\n",
       "  'Vitamin D': {'quantity': 0.0, 'unit_of_measurement': 'mcg'},\n",
       "  'Calcium': {'quantity': 30.0, 'unit_of_measurement': 'mg'},\n",
       "  'Iron': {'quantity': 5.6, 'unit_of_measurement': 'mg'},\n",
       "  'Potassium': {'quantity': 120.0, 'unit_of_measurement': 'mg'},\n",
       "  'Calories': {'quantity': 90.0, 'unit_of_measurement': 'kcal'}}}"
      ]
     },
     "execution_count": 37,
     "metadata": {},
     "output_type": "execute_result"
    }
   ],
   "source": [
    "def get_original_ids():\n",
    "    \"\"\"Fetch original IDs from MongoDB and limit to 5 values.\"\"\"\n",
    "    original_ids = fetch_field_from_mongo(\"TestingData\", \"original_ID\")\n",
    "    return original_ids[:5]\n",
    "\n",
    "def build_url(product_id):\n",
    "    \"\"\"Construct the API URL using the product ID.\"\"\"\n",
    "    base_url = \"https://redsky.target.com/redsky_aggregations/v1/web/pdp_client_v1?key=9f36aeafbe60771e321a7cc95a78140772ab3e96&tcin={}&is_bot=false&pricing_store_id=3324&visitor_id=019347C3E9160201A06B297D0CC373F6\"\n",
    "    return base_url.format(product_id)\n",
    "\n",
    "def fetch_nutritional_data(url, headers):\n",
    "    \"\"\"Make a request to the API and fetch nutritional data.\"\"\"\n",
    "    try:\n",
    "        response = requests.get(url, headers=headers, timeout=5)\n",
    "        if response.status_code == 200:\n",
    "            return response.json()\n",
    "        else:\n",
    "            print(f\"Request failed for URL {url} with status code: {response.status_code}\")\n",
    "            return None\n",
    "    except requests.exceptions.RequestException as e:\n",
    "        print(f\"Error while making the request: {e}\")\n",
    "        return None\n",
    "\n",
    "def extract_nutritional_values(data):\n",
    "    \n",
    "    \"\"\"Extract and format nutritional values from the API response.\"\"\"\n",
    "    nutritional_data = {}\n",
    "    nutrition_facts = data.get('data', {}).get('product', {}).get('item', {}).get('enrichment',{}).get('nutrition_facts',{})\n",
    "    nutrients = nutrition_facts.get('value_prepared_list', [])[0].get('nutrients')\n",
    "    \n",
    "    print(nutrients)\n",
    "    \n",
    "    for nutrient in nutrients:\n",
    "        name = nutrient.get('name')\n",
    "        quantity = nutrient.get('quantity')\n",
    "        unit = nutrient.get('unit_of_measurement')\n",
    "        if name and quantity is not None:\n",
    "            nutritional_data[name] = {\"quantity\": quantity, \"unit_of_measurement\": unit}\n",
    "\n",
    "    return nutritional_data\n",
    "\n",
    "def fetch_nutritional_values():\n",
    "    \n",
    "    \"\"\"Main function to fetch and store nutritional values.\"\"\"\n",
    "    original_ids = get_original_ids()\n",
    "    headers = {\n",
    "        \"User-Agent\": \"Mozilla/5.0 (Windows NT 10.0; Win64; x64) AppleWebKit/537.36 (KHTML, like Gecko) Chrome/91.0.4472.124 Safari/537.36\",\n",
    "        \"Accept\": \"application/json\",\n",
    "        \"X-Requested-With\": \"XMLHttpRequest\",\n",
    "        \"Content-Type\": \"application/json\"\n",
    "    }\n",
    "    nutritional_values = {}\n",
    "    \n",
    "    for product_id in original_ids:\n",
    "        \n",
    "        if not product_id.startswith(\"tg\"):\n",
    "            print(product_id)\n",
    "            continue\n",
    "        new_id = product_id[3:]\n",
    "        if new_id.isdigit():\n",
    "            url = build_url(new_id)\n",
    "            print(f\"Making request for URL: {url}\")\n",
    "            \n",
    "            data = fetch_nutritional_data(url, headers)\n",
    "            if data:\n",
    "                nutritional_values[new_id] = extract_nutritional_values(data)\n",
    "                print(nutritional_values[new_id])\n",
    "            time.sleep(5)\n",
    "            \n",
    "    print(nutritional_values)\n",
    "    \n",
    "    return nutritional_values\n",
    "\n",
    "fetch_nutritional_values()"
   ]
  }
 ],
 "metadata": {
  "kernelspec": {
   "display_name": "Python 3",
   "language": "python",
   "name": "python3"
  },
  "language_info": {
   "codemirror_mode": {
    "name": "ipython",
    "version": 3
   },
   "file_extension": ".py",
   "mimetype": "text/x-python",
   "name": "python",
   "nbconvert_exporter": "python",
   "pygments_lexer": "ipython3",
   "version": "3.12.6"
  }
 },
 "nbformat": 4,
 "nbformat_minor": 2
}
